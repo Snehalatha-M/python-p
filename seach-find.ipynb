{
 "cells": [
  {
   "cell_type": "code",
   "execution_count": 4,
   "id": "e8b86a3a-ed5c-49e7-af70-5b2781db6453",
   "metadata": {},
   "outputs": [
    {
     "name": "stdin",
     "output_type": "stream",
     "text": [
      "Please enter a name: Sneha\n"
     ]
    },
    {
     "name": "stdout",
     "output_type": "stream",
     "text": [
      "KEY FOUND\n"
     ]
    }
   ],
   "source": [
    "# Write a function that takes a dictionary and a Key-name as arguments, \n",
    "# returns the key-value pair as dictionary if exists or returns the error message 'Key doesnt not exist as shown below.\n",
    "\n",
    "\n",
    "name_info= {\n",
    "       \n",
    "     'Sneha' : 86,\n",
    "     'Ravalika' : 87,\n",
    "     'Archana' : 88,\n",
    "     'Kruthika' : 89\n",
    "\n",
    "}\n",
    "\n",
    "name = input(\"Please enter a name:\")\n",
    "\n",
    "if name in name_info.keys():\n",
    "    print(\"KEY FOUND\")\n",
    "else:\n",
    "    print(\"KEY NOT FOUND\")\n",
    "    "
   ]
  },
  {
   "cell_type": "code",
   "execution_count": 1,
   "id": "ca8b2e12-4237-4207-9393-f228864b0e87",
   "metadata": {},
   "outputs": [
    {
     "name": "stdin",
     "output_type": "stream",
     "text": [
      "Please enter a name: John\n"
     ]
    },
    {
     "name": "stdout",
     "output_type": "stream",
     "text": [
      "KEY NOT FOUND\n"
     ]
    }
   ],
   "source": [
    "name_info= {\n",
    "       \n",
    "     'Sneha' : 86,\n",
    "     'Ravalika' : 87,\n",
    "     'Archana' : 88,\n",
    "     'Kruthika' : 89\n",
    "\n",
    "}\n",
    "\n",
    "name = input(\"Please enter a name:\")\n",
    "\n",
    "if name in name_info.keys():\n",
    "    print(\"KEY FOUND\")\n",
    "else:\n",
    "    print(\"KEY NOT FOUND\")\n",
    "    "
   ]
  },
  {
   "cell_type": "code",
   "execution_count": null,
   "id": "f6002ac4-d9d3-49b5-857b-2a8487182dbf",
   "metadata": {},
   "outputs": [],
   "source": []
  }
 ],
 "metadata": {
  "kernelspec": {
   "display_name": "Python 3 (ipykernel)",
   "language": "python",
   "name": "python3"
  },
  "language_info": {
   "codemirror_mode": {
    "name": "ipython",
    "version": 3
   },
   "file_extension": ".py",
   "mimetype": "text/x-python",
   "name": "python",
   "nbconvert_exporter": "python",
   "pygments_lexer": "ipython3",
   "version": "3.13.3"
  }
 },
 "nbformat": 4,
 "nbformat_minor": 5
}
