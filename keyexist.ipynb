{
 "cells": [
  {
   "cell_type": "code",
   "execution_count": 11,
   "id": "df675b24-851b-43d2-9a31-2df01cd22fa1",
   "metadata": {},
   "outputs": [
    {
     "name": "stdout",
     "output_type": "stream",
     "text": [
      "The Alchemist\n"
     ]
    }
   ],
   "source": [
    "#Write a program that takes a dictionary and a key as input and checks if the key exists in the dictionary.\n",
    "\n",
    "dict={\n",
    "\n",
    "  \"Book\": \"The Alchemist\",\n",
    "  \"Author\": \"Paulo Coelho\",\n",
    "  \n",
    "}\n",
    "\n",
    "if \"Book\" in dict:\n",
    "    Book=dict[\"Book\"]\n",
    "    print(Book)\n",
    "\n",
    "else:\n",
    "    print(\"KEY NOT FOUND\")\n",
    "   "
   ]
  },
  {
   "cell_type": "code",
   "execution_count": null,
   "id": "06bcd2dd-8664-4d3f-ba51-3569053efaf3",
   "metadata": {},
   "outputs": [],
   "source": []
  }
 ],
 "metadata": {
  "kernelspec": {
   "display_name": "Python 3 (ipykernel)",
   "language": "python",
   "name": "python3"
  },
  "language_info": {
   "codemirror_mode": {
    "name": "ipython",
    "version": 3
   },
   "file_extension": ".py",
   "mimetype": "text/x-python",
   "name": "python",
   "nbconvert_exporter": "python",
   "pygments_lexer": "ipython3",
   "version": "3.13.3"
  }
 },
 "nbformat": 4,
 "nbformat_minor": 5
}
