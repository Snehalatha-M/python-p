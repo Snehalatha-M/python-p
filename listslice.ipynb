{
 "cells": [
  {
   "cell_type": "code",
   "execution_count": 11,
   "id": "e90a667c-2714-480e-b1d9-c33dbcd96119",
   "metadata": {},
   "outputs": [
    {
     "name": "stdout",
     "output_type": "stream",
     "text": [
      "First three elements: [10, 12, 14]\n",
      "Lart Four Elements: [88, 96, 100, 25]\n",
      "Even position Elements: [10, 14, 86, 96, 25]\n"
     ]
    }
   ],
   "source": [
    "#  creating a list with 10 elements\n",
    "#  Extracting first 3 elements\n",
    "#  Extracting Last 4 elements\n",
    "#  Extracting every second element\n",
    "#  printing all three \n",
    "\n",
    "num_list=[10,12,14,16,86,88,96,100,25,21]\n",
    "\n",
    "num_list[0:3]\n",
    "num_list[5:9]\n",
    "num_list[::2]\n",
    "\n",
    "print(\"First three elements:\", num_list[0:3])\n",
    "print(\"Lart Four Elements:\",num_list[5:9])\n",
    "print(\"Even position Elements:\",num_list[::2])"
   ]
  },
  {
   "cell_type": "code",
   "execution_count": null,
   "id": "12c814f2-0b5a-44d7-b662-c1a48398d17e",
   "metadata": {},
   "outputs": [],
   "source": []
  }
 ],
 "metadata": {
  "kernelspec": {
   "display_name": "Python 3 (ipykernel)",
   "language": "python",
   "name": "python3"
  },
  "language_info": {
   "codemirror_mode": {
    "name": "ipython",
    "version": 3
   },
   "file_extension": ".py",
   "mimetype": "text/x-python",
   "name": "python",
   "nbconvert_exporter": "python",
   "pygments_lexer": "ipython3",
   "version": "3.13.3"
  }
 },
 "nbformat": 4,
 "nbformat_minor": 5
}
