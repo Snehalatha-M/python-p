{
 "cells": [
  {
   "cell_type": "code",
   "execution_count": 2,
   "id": "4b71e2cd-a886-4066-b8f5-be50468bf097",
   "metadata": {},
   "outputs": [
    {
     "name": "stdout",
     "output_type": "stream",
     "text": [
      "120\n"
     ]
    }
   ],
   "source": [
    "# Write a program that takes a list of numbers (e.g., [4, 2, 9, 7, 5]) and\n",
    "# finds the largest number in the list without using the max() function.\n",
    "\n",
    "\n",
    "\n",
    "numbers=[10,12,23,24,30,86,100,120]\n",
    "\n",
    "# Initializing a variable with the first element\n",
    "\n",
    "largest_num=numbers[0]\n",
    "\n",
    "for num in numbers:\n",
    "    if num > largest:\n",
    "        largest=num\n",
    "\n",
    "print(\"largest_num:\", largest_num)"
   ]
  },
  {
   "cell_type": "code",
   "execution_count": null,
   "id": "8cac2b73-609b-4dbb-ac72-34ce13553249",
   "metadata": {},
   "outputs": [],
   "source": []
  }
 ],
 "metadata": {
  "kernelspec": {
   "display_name": "Python 3 (ipykernel)",
   "language": "python",
   "name": "python3"
  },
  "language_info": {
   "codemirror_mode": {
    "name": "ipython",
    "version": 3
   },
   "file_extension": ".py",
   "mimetype": "text/x-python",
   "name": "python",
   "nbconvert_exporter": "python",
   "pygments_lexer": "ipython3",
   "version": "3.13.3"
  }
 },
 "nbformat": 4,
 "nbformat_minor": 5
}
