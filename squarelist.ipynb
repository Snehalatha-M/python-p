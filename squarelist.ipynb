{
 "cells": [
  {
   "cell_type": "code",
   "execution_count": 47,
   "id": "04e71ba2-c3db-4bf9-975c-f7b18cb2693f",
   "metadata": {},
   "outputs": [
    {
     "ename": "TypeError",
     "evalue": "unsupported operand type(s) for +: 'int' and 'str'",
     "output_type": "error",
     "traceback": [
      "\u001b[31m---------------------------------------------------------------------------\u001b[39m",
      "\u001b[31mTypeError\u001b[39m                                 Traceback (most recent call last)",
      "\u001b[36mCell\u001b[39m\u001b[36m \u001b[39m\u001b[32mIn[47]\u001b[39m\u001b[32m, line 6\u001b[39m\n\u001b[32m      4\u001b[39m \u001b[38;5;28;01mfor\u001b[39;00m n \u001b[38;5;129;01min\u001b[39;00m numbers:\n\u001b[32m      5\u001b[39m     \u001b[38;5;28;01mif\u001b[39;00m n%\u001b[32m2\u001b[39m == \u001b[32m0\u001b[39m:\n\u001b[32m----> \u001b[39m\u001b[32m6\u001b[39m         new_list.append(\u001b[43mn\u001b[49m\u001b[43m+\u001b[49m\u001b[33;43m\"\u001b[39;49m\u001b[33;43mth\u001b[39;49m\u001b[33;43m\"\u001b[39;49m)\n\u001b[32m      8\u001b[39m \u001b[38;5;28mprint\u001b[39m(\u001b[33m\"\u001b[39m\u001b[33mEven Numbers:\u001b[39m\u001b[33m\"\u001b[39m,new_list )\n",
      "\u001b[31mTypeError\u001b[39m: unsupported operand type(s) for +: 'int' and 'str'"
     ]
    }
   ],
   "source": [
    "numbers=[1,4,9,16,25,36,49,64,81,100]\n",
    "new_list=[]\n",
    "\n",
    "for n in numbers:\n",
    "    if n%2 == 0:\n",
    "        new_list.append(n+\"th\")\n",
    "    \n",
    "print(\"Even Numbers:\",new_list )\n",
    "\n",
    "        \n"
   ]
  },
  {
   "cell_type": "code",
   "execution_count": 48,
   "id": "f4c3c9ef-0c3b-4bcc-83fa-029e9a546a93",
   "metadata": {},
   "outputs": [
    {
     "name": "stdout",
     "output_type": "stream",
     "text": [
      "Even Numbers: ['4th', '16th', '36th', '64th', '100th']\n"
     ]
    }
   ],
   "source": [
    "numbers=[1,4,9,16,25,36,49,64,81,100]\n",
    "new_list=[]\n",
    "\n",
    "for n in numbers:\n",
    "    if n%2 == 0:\n",
    "        new_list.append(str(n)+\"th\")\n",
    "    \n",
    "print(\"Even Numbers:\",new_list )\n",
    "\n",
    "        \n"
   ]
  },
  {
   "cell_type": "code",
   "execution_count": null,
   "id": "65fdcf93-cdf6-42fb-9a20-30fab55c0364",
   "metadata": {},
   "outputs": [],
   "source": []
  }
 ],
 "metadata": {
  "kernelspec": {
   "display_name": "Python 3 (ipykernel)",
   "language": "python",
   "name": "python3"
  },
  "language_info": {
   "codemirror_mode": {
    "name": "ipython",
    "version": 3
   },
   "file_extension": ".py",
   "mimetype": "text/x-python",
   "name": "python",
   "nbconvert_exporter": "python",
   "pygments_lexer": "ipython3",
   "version": "3.13.3"
  }
 },
 "nbformat": 4,
 "nbformat_minor": 5
}
