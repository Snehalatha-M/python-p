{
 "cells": [
  {
   "cell_type": "code",
   "execution_count": 10,
   "id": "a1d1c7a8-873d-456a-92f9-f2b4293de77e",
   "metadata": {},
   "outputs": [
    {
     "data": {
      "text/plain": [
       "{'Chhava': 'ShivajiSawant',\n",
       " 'Harry Potter': 'J.K.Rowling',\n",
       " 'Titanic': 'JamesCameron'}"
      ]
     },
     "execution_count": 10,
     "metadata": {},
     "output_type": "execute_result"
    }
   ],
   "source": [
    "movies"
   ]
  },
  {
   "cell_type": "code",
   "execution_count": 11,
   "id": "8abf4e78-a58f-48b1-a4c7-a4c70215cf84",
   "metadata": {},
   "outputs": [],
   "source": [
    "movies={}\n",
    "movies[\"Chhava\"]=\"ShivajiSawant\"\n",
    "movies[\"Harry Potter\"]=\"J.K.Rowling\"\n",
    "movies[\"Titanic\"]=\"JamesCameron\""
   ]
  },
  {
   "cell_type": "code",
   "execution_count": 12,
   "id": "203d510e-1cb3-4cf2-a6cb-410338a4c69b",
   "metadata": {},
   "outputs": [
    {
     "data": {
      "text/plain": [
       "{'Chhava': 'ShivajiSawant',\n",
       " 'Harry Potter': 'J.K.Rowling',\n",
       " 'Titanic': 'JamesCameron'}"
      ]
     },
     "execution_count": 12,
     "metadata": {},
     "output_type": "execute_result"
    }
   ],
   "source": [
    "movies"
   ]
  },
  {
   "cell_type": "code",
   "execution_count": 13,
   "id": "dd0ebccc-9487-4f77-9721-93ba440222c1",
   "metadata": {},
   "outputs": [],
   "source": [
    "movies[\"Rapunzel\"]=\"BrothersGrimm\""
   ]
  },
  {
   "cell_type": "code",
   "execution_count": 14,
   "id": "14fef710-a47f-4c0e-921b-5c7a77e6baf8",
   "metadata": {},
   "outputs": [
    {
     "data": {
      "text/plain": [
       "{'Chhava': 'ShivajiSawant',\n",
       " 'Harry Potter': 'J.K.Rowling',\n",
       " 'Titanic': 'JamesCameron',\n",
       " 'Rapunzel': 'BrothersGrimm'}"
      ]
     },
     "execution_count": 14,
     "metadata": {},
     "output_type": "execute_result"
    }
   ],
   "source": [
    "movies"
   ]
  },
  {
   "cell_type": "code",
   "execution_count": 30,
   "id": "0b4e2242-2294-4556-8ebb-bf71e9ffe726",
   "metadata": {},
   "outputs": [
    {
     "name": "stdout",
     "output_type": "stream",
     "text": [
      "{'Chhava': 'Trivikram', 'Frozen2': 'Jennifer Lee', 'Rapunzel': 'BrothersGrimm', 'Actors': ['VickyKaushal', 'Daniel Jacob Radcliffe', 'Idina Menzel', 'Mandy Moore'], 'Producers': ['Dinesh Vijan', 'David Heyman', 'Peter DelVecho', 'Roy Conli'], 'Directors': ['Laxman Utekar', 'Chris Columbus', 'Chris Buck', 'Nathan Greno'], 'Songs': ['The Roar', 'Reunion Of Friends', 'All Is Found', ' Mother Knows Best']}\n"
     ]
    },
    {
     "ename": "NameError",
     "evalue": "name 'Actors' is not defined",
     "output_type": "error",
     "traceback": [
      "\u001b[31m---------------------------------------------------------------------------\u001b[39m",
      "\u001b[31mNameError\u001b[39m                                 Traceback (most recent call last)",
      "\u001b[36mCell\u001b[39m\u001b[36m \u001b[39m\u001b[32mIn[30]\u001b[39m\u001b[32m, line 21\u001b[39m\n\u001b[32m     18\u001b[39m movies.pop(\u001b[33m\"\u001b[39m\u001b[33mHarry Potter\u001b[39m\u001b[33m\"\u001b[39m)\n\u001b[32m     20\u001b[39m \u001b[38;5;28mprint\u001b[39m(movies)\n\u001b[32m---> \u001b[39m\u001b[32m21\u001b[39m \u001b[38;5;28mprint\u001b[39m(\u001b[33m\"\u001b[39m\u001b[33mActors\u001b[39m\u001b[33m\"\u001b[39m, \u001b[43mActors\u001b[49m)\n\u001b[32m     22\u001b[39m \u001b[38;5;28mprint\u001b[39m(\u001b[33m\"\u001b[39m\u001b[33mProducers\u001b[39m\u001b[33m\"\u001b[39m, Producers)\n\u001b[32m     23\u001b[39m \u001b[38;5;28mprint\u001b[39m(\u001b[33m\"\u001b[39m\u001b[33mDirectors\u001b[39m\u001b[33m\"\u001b[39m, Directors)\n",
      "\u001b[31mNameError\u001b[39m: name 'Actors' is not defined"
     ]
    }
   ],
   "source": [
    "movies={}\n",
    "movies[\"Chhava\"]=\"ShivajiSawant\"\n",
    "movies[\"Harry Potter\"]=\"J.K.Rowling\"\n",
    "movies[\"Frozen2\"]=\"Jennifer Lee\"\n",
    "\n",
    "movies.update({\"Rapunzel\":\"BrothersGrimm\"})\n",
    "\n",
    "\n",
    "movies[\"Actors\"]=[\"VickyKaushal\",\"Daniel Jacob Radcliffe\",\"Idina Menzel\",\"Mandy Moore\"]\n",
    "\n",
    "movies[\"Producers\"]=[\"Dinesh Vijan\",\"David Heyman\",\"Peter DelVecho\",\"Roy Conli\"]\n",
    "\n",
    "movies[\"Directors\"]=[\"Laxman Utekar\",\"Chris Columbus\",\"Chris Buck\",\"Nathan Greno\"]\n",
    "\n",
    "movies[\"Songs\"]=[\"The Roar\", \"Reunion Of Friends\", \"All Is Found\", \" Mother Knows Best\"]\n",
    "\n",
    "movies.update({\"Chhava\":\"Trivikram\"})\n",
    "movies.pop(\"Harry Potter\")\n",
    "\n",
    "print(movies)\n",
    "print(\"Actors\", Actors)\n",
    "print(\"Producers\", Producers)\n",
    "print(\"Directors\", Directors)\n",
    "print(\"Songs\", Songs)"
   ]
  },
  {
   "cell_type": "code",
   "execution_count": 50,
   "id": "43668217-fb1a-462c-91f9-3b7fdf0f3924",
   "metadata": {},
   "outputs": [
    {
     "name": "stdout",
     "output_type": "stream",
     "text": [
      "Actors: ['VickyKaushal', 'Daniel Jacob Radcliffe', 'Idina Menzel', 'Mandy Moore']\n",
      "Producers: ['Dinesh Vijan', 'David Heyman', 'Peter DelVecho', 'Roy Conli']\n",
      "Directors: ['Laxman Utekar', 'Chris Columbus', 'Chris Buck', 'Nathan Greno']\n",
      "Songs: ['The Roar', 'Reunion Of Friends', 'All Is Found', ' Mother Knows Best']\n"
     ]
    }
   ],
   "source": [
    "movies={}\n",
    "movies[\"Chhava\"]=\"ShivajiSawant\"\n",
    "movies[\"Harry Potter\"]=\"J.K.Rowling\"\n",
    "movies[\"Frozen2\"]=\"Jennifer Lee\"\n",
    "\n",
    "movies.update({\"Rapunzel\":\"BrothersGrimm\"})\n",
    "\n",
    "\n",
    "movies[\"Actors\"]=[\"VickyKaushal\",\"Daniel Jacob Radcliffe\",\"Idina Menzel\",\"Mandy Moore\"]\n",
    "\n",
    "movies[\"Producers\"]=[\"Dinesh Vijan\",\"David Heyman\",\"Peter DelVecho\",\"Roy Conli\"]\n",
    "\n",
    "movies[\"Directors\"]=[\"Laxman Utekar\",\"Chris Columbus\",\"Chris Buck\",\"Nathan Greno\"]\n",
    "\n",
    "movies[\"Songs\"]=[\"The Roar\", \"Reunion Of Friends\", \"All Is Found\", \" Mother Knows Best\"]\n",
    "\n",
    "movies.update({\"Chhava\":\"Trivikram\"})\n",
    "movies.pop(\"Harry Potter\")\n",
    "\n",
    "print(\"Actors:\", Actors)\n",
    "print(\"Producers:\", Producers)\n",
    "print(\"Directors:\", Directors)\n",
    "print(\"Songs:\", Songs)"
   ]
  },
  {
   "cell_type": "code",
   "execution_count": 49,
   "id": "ac5e3a05-38b3-4e58-ad46-115bbf379bae",
   "metadata": {},
   "outputs": [
    {
     "name": "stdout",
     "output_type": "stream",
     "text": [
      "Movies: {'Chhava': 'Trivikram', 'Frozen2': 'Jennifer Lee', 'Rapunzel': 'BrothersGrimm'}\n",
      "Actors: ['VickyKaushal', 'Daniel Jacob Radcliffe', 'Idina Menzel', 'Mandy Moore']\n",
      "Producers: ['Dinesh Vijan', 'David Heyman', 'Peter DelVecho', 'Roy Conli']\n",
      "Directors: ['Laxman Utekar', 'Chris Columbus', 'Chris Buck', 'Nathan Greno']\n",
      "Songs: ['The Roar', 'Reunion Of Friends', 'All Is Found', ' Mother Knows Best']\n"
     ]
    }
   ],
   "source": [
    "movies={}\n",
    "movies[\"Chhava\"]=\"ShivajiSawant\"\n",
    "movies[\"Harry Potter\"]=\"J.K.Rowling\"\n",
    "movies[\"Frozen2\"]=\"Jennifer Lee\"\n",
    "\n",
    "movies.update({\"Rapunzel\":\"BrothersGrimm\"})\n",
    "\n",
    "\n",
    "Actors=[\"VickyKaushal\",\"Daniel Jacob Radcliffe\",\"Idina Menzel\",\"Mandy Moore\"]\n",
    "\n",
    "Producers=[\"Dinesh Vijan\",\"David Heyman\",\"Peter DelVecho\",\"Roy Conli\"]\n",
    "\n",
    "Directors=[\"Laxman Utekar\",\"Chris Columbus\",\"Chris Buck\",\"Nathan Greno\"]\n",
    "\n",
    "Songs=[\"The Roar\", \"Reunion Of Friends\", \"All Is Found\", \" Mother Knows Best\"]\n",
    "\n",
    "movies.update({\"Chhava\":\"Trivikram\"})\n",
    "movies.pop(\"Harry Potter\")\n",
    "\n",
    "print(\"Movies:\", movies)\n",
    "\n",
    "print(\"Actors:\", Actors)\n",
    "print(\"Producers:\", Producers)\n",
    "print(\"Directors:\", Directors)\n",
    "print(\"Songs:\", Songs)"
   ]
  },
  {
   "cell_type": "code",
   "execution_count": null,
   "id": "ea7732ec-90f2-4581-8858-24a8ebdde62c",
   "metadata": {},
   "outputs": [],
   "source": []
  }
 ],
 "metadata": {
  "kernelspec": {
   "display_name": "Python 3 (ipykernel)",
   "language": "python",
   "name": "python3"
  },
  "language_info": {
   "codemirror_mode": {
    "name": "ipython",
    "version": 3
   },
   "file_extension": ".py",
   "mimetype": "text/x-python",
   "name": "python",
   "nbconvert_exporter": "python",
   "pygments_lexer": "ipython3",
   "version": "3.13.3"
  }
 },
 "nbformat": 4,
 "nbformat_minor": 5
}
