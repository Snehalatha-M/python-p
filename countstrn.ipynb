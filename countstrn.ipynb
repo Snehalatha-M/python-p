{
 "cells": [
  {
   "cell_type": "code",
   "execution_count": 97,
   "id": "9a767b1e-b5ca-40b8-aedd-0723925dd7b3",
   "metadata": {},
   "outputs": [],
   "source": [
    "#Write a function that takes a string as input \n",
    "#and returns a dictionary where keys are characters and values are the number of times each character appears\n"
   ]
  },
  {
   "cell_type": "code",
   "execution_count": 103,
   "id": "e97cbe39-b6aa-4688-845e-3d6a80eaae41",
   "metadata": {},
   "outputs": [
    {
     "name": "stdout",
     "output_type": "stream",
     "text": [
      "Counter({'O': 3, 'S': 1, 'P': 1, 'R': 1, 'T': 1, 'H': 1, 'I': 1, 'U': 1, 'M': 1})\n"
     ]
    }
   ],
   "source": [
    "from collections import Counter\n",
    "\n",
    "w= ('SPOORTHIOUM')\n",
    "counter= Counter(w)\n",
    "\n",
    "print(counter)"
   ]
  },
  {
   "cell_type": "code",
   "execution_count": null,
   "id": "93850152-1053-4520-976a-337b83818a11",
   "metadata": {},
   "outputs": [],
   "source": []
  },
  {
   "cell_type": "code",
   "execution_count": null,
   "id": "e61df74b-fa63-48bb-90fb-4782b34ff0c7",
   "metadata": {},
   "outputs": [],
   "source": []
  }
 ],
 "metadata": {
  "kernelspec": {
   "display_name": "Python 3 (ipykernel)",
   "language": "python",
   "name": "python3"
  },
  "language_info": {
   "codemirror_mode": {
    "name": "ipython",
    "version": 3
   },
   "file_extension": ".py",
   "mimetype": "text/x-python",
   "name": "python",
   "nbconvert_exporter": "python",
   "pygments_lexer": "ipython3",
   "version": "3.13.3"
  }
 },
 "nbformat": 4,
 "nbformat_minor": 5
}
