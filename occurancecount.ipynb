{
 "cells": [
  {
   "cell_type": "code",
   "execution_count": 1,
   "id": "ba261875-3853-4ded-b08b-f3332fbe8893",
   "metadata": {},
   "outputs": [
    {
     "name": "stdout",
     "output_type": "stream",
     "text": [
      "Bahubali: 3\n",
      "Mirchi: 2\n",
      "Varsham: 2\n",
      "Chatrapathi: 2\n",
      "Darling: 1\n"
     ]
    }
   ],
   "source": [
    "# Write a function that takes a list and an element as input and returns how many times that element appears in the list.\n",
    "\n",
    "\n",
    "\n",
    "mve_list=['Bahubali','Bahubali','Mirchi','Varsham', 'Varsham','Chatrapathi','Chatrapathi','Mirchi', 'Bahubali','Darling']\n",
    "\n",
    "count_Bahubali=0\n",
    "count_Mirchi=0\n",
    "count_Varsham=0\n",
    "count_Chatrapathi=0\n",
    "count_Darling=0\n",
    "count_others=0\n",
    "\n",
    "\n",
    "for movie in mve_list:\n",
    "    if movie == 'Bahubali':\n",
    "        count_Bahubali = count_Bahubali+1\n",
    "        \n",
    "    elif movie == 'Mirchi':\n",
    "        count_Mirchi = count_Mirchi + 1\n",
    "        \n",
    "    elif movie == 'Varsham':\n",
    "        count_Varsham = count_Varsham + 1\n",
    "        \n",
    "    elif movie == 'Chatrapathi':\n",
    "        count_Chatrapathi = count_Chatrapathi + 1\n",
    "    \n",
    "    elif movie == 'Darling':\n",
    "        count_Darling = count_Darling+1\n",
    "\n",
    "    else:\n",
    "        count_others = count_others + 1\n",
    "\n",
    "print(\"Bahubali:\", count_Bahubali)\n",
    "print(\"Mirchi:\", count_Mirchi)\n",
    "print(\"Varsham:\", count_Varsham)\n",
    "print(\"Chatrapathi:\", count_Chatrapathi)\n",
    "print(\"Darling:\", count_Darling)"
   ]
  },
  {
   "cell_type": "code",
   "execution_count": 2,
   "id": "0e4986dd-c606-4557-909b-4a0b01ea5e93",
   "metadata": {},
   "outputs": [
    {
     "data": {
      "text/plain": [
       "1"
      ]
     },
     "execution_count": 2,
     "metadata": {},
     "output_type": "execute_result"
    }
   ],
   "source": [
    "count_Darling"
   ]
  },
  {
   "cell_type": "code",
   "execution_count": 3,
   "id": "c547556c-8ed2-49b7-922f-fc5a325e3429",
   "metadata": {},
   "outputs": [
    {
     "data": {
      "text/plain": [
       "2"
      ]
     },
     "execution_count": 3,
     "metadata": {},
     "output_type": "execute_result"
    }
   ],
   "source": [
    "count_Chatrapathi"
   ]
  },
  {
   "cell_type": "code",
   "execution_count": 4,
   "id": "f8863fc4-68c6-4ed7-8254-b5bc546d381c",
   "metadata": {},
   "outputs": [
    {
     "data": {
      "text/plain": [
       "3"
      ]
     },
     "execution_count": 4,
     "metadata": {},
     "output_type": "execute_result"
    }
   ],
   "source": [
    "count_Bahubali"
   ]
  },
  {
   "cell_type": "code",
   "execution_count": null,
   "id": "31fb1636-4f02-4e1f-afcf-64e8cc0f2e11",
   "metadata": {},
   "outputs": [],
   "source": []
  }
 ],
 "metadata": {
  "kernelspec": {
   "display_name": "Python 3 (ipykernel)",
   "language": "python",
   "name": "python3"
  },
  "language_info": {
   "codemirror_mode": {
    "name": "ipython",
    "version": 3
   },
   "file_extension": ".py",
   "mimetype": "text/x-python",
   "name": "python",
   "nbconvert_exporter": "python",
   "pygments_lexer": "ipython3",
   "version": "3.13.3"
  }
 },
 "nbformat": 4,
 "nbformat_minor": 5
}
