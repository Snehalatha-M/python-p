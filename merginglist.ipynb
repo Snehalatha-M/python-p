{
 "cells": [
  {
   "cell_type": "code",
   "execution_count": 23,
   "id": "8fbe6a6a-572a-4b1e-a315-f8cc9a79bc26",
   "metadata": {},
   "outputs": [
    {
     "name": "stdout",
     "output_type": "stream",
     "text": [
      "new_list: [12, 15, 23, 24, 30, 86, 88, 100, 'a', 's', 'h', 'v', 'w', 'c', 'b', 'r']\n"
     ]
    }
   ],
   "source": [
    "# Write a function that takes two lists and merges them into a single list, alternating elements.\n",
    "\n",
    "\n",
    "list1=[12,15,23,24,30,86,88,100]\n",
    "\n",
    "list2=[\"a\",\"s\",\"h\",\"v\",\"w\",\"c\",\"b\",\"r\"]\n",
    "\n",
    "new_list=[]\n",
    "\n",
    "for each in list1:\n",
    "     new_list.append(each)\n",
    "for each in list2:\n",
    "     new_list.append(each)\n",
    "print(\"new_list:\", new_list)\n",
    "                    "
   ]
  },
  {
   "cell_type": "code",
   "execution_count": 30,
   "id": "89ff125c-00a3-4edd-b980-90034dbbcfb7",
   "metadata": {},
   "outputs": [
    {
     "name": "stdout",
     "output_type": "stream",
     "text": [
      "[12, 23, 30, 88, 'a', 'h', 'w', 'b']\n"
     ]
    }
   ],
   "source": [
    "\n",
    "final_list=[]\n",
    "\n",
    "alt_list1=list1[::2]\n",
    "\n",
    "for each in alt_list1:\n",
    "    final_list.append(each)\n",
    "    \n",
    "alt_list2=list2[::2]\n",
    "\n",
    "for each in alt_list2:\n",
    "    final_list.append(each)\n",
    "\n",
    "print(final_list)"
   ]
  },
  {
   "cell_type": "code",
   "execution_count": null,
   "id": "f41dcca5-d672-4323-beed-65d13a69aefe",
   "metadata": {},
   "outputs": [],
   "source": []
  }
 ],
 "metadata": {
  "kernelspec": {
   "display_name": "Python 3 (ipykernel)",
   "language": "python",
   "name": "python3"
  },
  "language_info": {
   "codemirror_mode": {
    "name": "ipython",
    "version": 3
   },
   "file_extension": ".py",
   "mimetype": "text/x-python",
   "name": "python",
   "nbconvert_exporter": "python",
   "pygments_lexer": "ipython3",
   "version": "3.13.3"
  }
 },
 "nbformat": 4,
 "nbformat_minor": 5
}
