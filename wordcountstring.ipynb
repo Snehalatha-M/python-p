{
 "cells": [
  {
   "cell_type": "code",
   "execution_count": 1,
   "id": "186a6972-ed44-42b9-829e-22709d51feb6",
   "metadata": {},
   "outputs": [
    {
     "data": {
      "text/plain": [
       "1"
      ]
     },
     "execution_count": 1,
     "metadata": {},
     "output_type": "execute_result"
    }
   ],
   "source": [
    "str=\"hello good evening\"\n",
    "\n",
    "str.count(\"hello\")"
   ]
  },
  {
   "cell_type": "code",
   "execution_count": 2,
   "id": "1b704549-00ef-4e27-b8b0-0dcc91650811",
   "metadata": {},
   "outputs": [
    {
     "data": {
      "text/plain": [
       "['hello good evening']"
      ]
     },
     "execution_count": 2,
     "metadata": {},
     "output_type": "execute_result"
    }
   ],
   "source": [
    "str.split(',')"
   ]
  },
  {
   "cell_type": "code",
   "execution_count": 3,
   "id": "7730e34f-5237-43f3-b09b-9a1467133df4",
   "metadata": {},
   "outputs": [],
   "source": [
    "count=str.count('l')"
   ]
  },
  {
   "cell_type": "code",
   "execution_count": 4,
   "id": "e8caa172-f57d-4962-829f-a5833b1116ce",
   "metadata": {},
   "outputs": [
    {
     "data": {
      "text/plain": [
       "2"
      ]
     },
     "execution_count": 4,
     "metadata": {},
     "output_type": "execute_result"
    }
   ],
   "source": [
    "count"
   ]
  },
  {
   "cell_type": "code",
   "execution_count": 6,
   "id": "3b9b6c9f-3ef0-4701-af63-e7e2669f0f76",
   "metadata": {},
   "outputs": [
    {
     "name": "stdout",
     "output_type": "stream",
     "text": [
      "1\n"
     ]
    }
   ],
   "source": [
    "str=\"hello good evening\"\n",
    "\n",
    "count=str.count(\"h\")\n",
    "\n",
    "print(count)"
   ]
  },
  {
   "cell_type": "code",
   "execution_count": null,
   "id": "3a6eeb01-4311-4f82-861d-9b9e3619d37f",
   "metadata": {},
   "outputs": [],
   "source": []
  },
  {
   "cell_type": "code",
   "execution_count": 22,
   "id": "a41353a9-1c9a-4cf9-9c15-e2b9ff5e473f",
   "metadata": {},
   "outputs": [
    {
     "name": "stdout",
     "output_type": "stream",
     "text": [
      " 'o': 5\n",
      " 't': 7\n",
      " 'e': 10\n",
      " 'h': 4\n"
     ]
    }
   ],
   "source": [
    "str=\"one one two two two three three three three\"\n",
    "\n",
    "count_of_o=str.count('o')\n",
    "print(\" 'o':\",count_of_o)\n",
    "\n",
    "count_of_t=str.count('t')\n",
    "print(\" 't':\",count_of_t )\n",
    "\n",
    "count_of_e=str.count('e')\n",
    "print(\" 'e':\",count_of_e )\n",
    "\n",
    "count_of_h=str.count('h')\n",
    "print(\" 'h':\",count_of_h )\n",
    "               "
   ]
  },
  {
   "cell_type": "code",
   "execution_count": 23,
   "id": "6ea1281e-fa8d-43d7-9b90-c73dd6a71d5e",
   "metadata": {},
   "outputs": [],
   "source": [
    "count_of_one=str.count('one')"
   ]
  },
  {
   "cell_type": "code",
   "execution_count": 24,
   "id": "85a0acb7-e1e6-480a-9d11-05f3e4f1f1cb",
   "metadata": {},
   "outputs": [
    {
     "data": {
      "text/plain": [
       "2"
      ]
     },
     "execution_count": 24,
     "metadata": {},
     "output_type": "execute_result"
    }
   ],
   "source": [
    "count_of_one"
   ]
  },
  {
   "cell_type": "code",
   "execution_count": null,
   "id": "41cdc26a-13ea-400a-b806-3158456ff6c1",
   "metadata": {},
   "outputs": [],
   "source": []
  }
 ],
 "metadata": {
  "kernelspec": {
   "display_name": "Python 3 (ipykernel)",
   "language": "python",
   "name": "python3"
  },
  "language_info": {
   "codemirror_mode": {
    "name": "ipython",
    "version": 3
   },
   "file_extension": ".py",
   "mimetype": "text/x-python",
   "name": "python",
   "nbconvert_exporter": "python",
   "pygments_lexer": "ipython3",
   "version": "3.13.3"
  }
 },
 "nbformat": 4,
 "nbformat_minor": 5
}
