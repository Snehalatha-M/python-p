{
 "cells": [
  {
   "cell_type": "code",
   "execution_count": 1,
   "id": "4a01e113-a148-468c-af70-049a0793b0f0",
   "metadata": {},
   "outputs": [
    {
     "name": "stdout",
     "output_type": "stream",
     "text": [
      "['Mango', 'Banana', 'Apple', 'Grapes', 'Pomegranate', 'Pear']\n"
     ]
    }
   ],
   "source": [
    "# Write a Python program to create a list of 5 favorite fruits\n",
    "\n",
    "# Add a new fruit to the end of the list.\n",
    "# Insert a fruit at the second position.\n",
    "# Remove one fruit by its value.\n",
    "# Print the final list.\n",
    "\n",
    "\n",
    "fruits=[\"Mango\",\"Apple\", \"Guava\", \"Grapes\",\"Pomegranate\"]\n",
    "fruits.append(\"Pear\")\n",
    "fruits.insert(1,\"Banana\")\n",
    "fruits.pop(3)\n",
    "print(fruits)"
   ]
  },
  {
   "cell_type": "code",
   "execution_count": null,
   "id": "6346f913-30da-4c13-830b-8778dd19da8e",
   "metadata": {},
   "outputs": [],
   "source": []
  }
 ],
 "metadata": {
  "kernelspec": {
   "display_name": "Python 3 (ipykernel)",
   "language": "python",
   "name": "python3"
  },
  "language_info": {
   "codemirror_mode": {
    "name": "ipython",
    "version": 3
   },
   "file_extension": ".py",
   "mimetype": "text/x-python",
   "name": "python",
   "nbconvert_exporter": "python",
   "pygments_lexer": "ipython3",
   "version": "3.13.3"
  }
 },
 "nbformat": 4,
 "nbformat_minor": 5
}
