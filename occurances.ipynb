{
 "cells": [
  {
   "cell_type": "code",
   "execution_count": 1,
   "id": "aca05daf-bf36-4750-b751-1e83be79e07d",
   "metadata": {},
   "outputs": [
    {
     "name": "stdout",
     "output_type": "stream",
     "text": [
      "Bahubali: 3\n",
      "Mirci: 2\n",
      "Varsham: 2\n",
      "Chatrapathi: 2\n",
      "Darling: 1\n"
     ]
    }
   ],
   "source": [
    "list=['Bahubali','Bahubali','Mirchi','Varsham', 'Varsham','Chatrapathi','Chatrapathi','Mirchi', 'Bahubali','Darling']\n",
    "\n",
    "count_of_Bahubali=list.count(\"Bahubali\")\n",
    "count_of_Mirchi=list.count(\"Mirchi\")\n",
    "count_of_Varsham=list.count(\"Varsham\")\n",
    "count_of_Chatrapathi=list.count(\"Chatrapathi\")\n",
    "count_of_Darling=list.count(\"Darling\")\n",
    "\n",
    "print(\"Bahubali:\", count_of_Bahubali)\n",
    "print(\"Mirci:\", count_of_Mirchi)\n",
    "print(\"Varsham:\", count_of_Varsham)\n",
    "print(\"Chatrapathi:\", count_of_Chatrapathi)\n",
    "print(\"Darling:\", count_of_Darling)\n"
   ]
  },
  {
   "cell_type": "code",
   "execution_count": null,
   "id": "e77ba0ff-bd06-4aa6-880f-f7cfa3a045ab",
   "metadata": {},
   "outputs": [],
   "source": []
  },
  {
   "cell_type": "code",
   "execution_count": null,
   "id": "7be9af25-ac40-44e8-b4eb-aac9322e4aa5",
   "metadata": {},
   "outputs": [],
   "source": []
  }
 ],
 "metadata": {
  "kernelspec": {
   "display_name": "Python 3 (ipykernel)",
   "language": "python",
   "name": "python3"
  },
  "language_info": {
   "codemirror_mode": {
    "name": "ipython",
    "version": 3
   },
   "file_extension": ".py",
   "mimetype": "text/x-python",
   "name": "python",
   "nbconvert_exporter": "python",
   "pygments_lexer": "ipython3",
   "version": "3.13.3"
  }
 },
 "nbformat": 4,
 "nbformat_minor": 5
}
