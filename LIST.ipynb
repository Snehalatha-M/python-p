{
 "cells": [
  {
   "cell_type": "code",
   "execution_count": 76,
   "id": "33a5d043-6bcb-4eda-818c-4db2a9c63fc9",
   "metadata": {},
   "outputs": [
    {
     "name": "stdout",
     "output_type": "stream",
     "text": [
      "['Mango', 'Banana', 'Apple', 'Grapes', 'Pomegranate', 'Pear']\n"
     ]
    }
   ],
   "source": [
    "fruits=[\"Mango\",\"Apple\", \"Guava\", \"Grapes\",\"Pomegranate\"]\n",
    "fruits.append(\"Pear\")\n",
    "fruits.insert(1,\"Banana\")\n",
    "fruits.pop(3)\n",
    "print(fruits)"
   ]
  },
  {
   "cell_type": "code",
   "execution_count": null,
   "id": "7a1a3a19-4edf-43eb-8677-6c4173c95453",
   "metadata": {},
   "outputs": [],
   "source": []
  }
 ],
 "metadata": {
  "kernelspec": {
   "display_name": "Python 3 (ipykernel)",
   "language": "python",
   "name": "python3"
  },
  "language_info": {
   "codemirror_mode": {
    "name": "ipython",
    "version": 3
   },
   "file_extension": ".py",
   "mimetype": "text/x-python",
   "name": "python",
   "nbconvert_exporter": "python",
   "pygments_lexer": "ipython3",
   "version": "3.13.3"
  }
 },
 "nbformat": 4,
 "nbformat_minor": 5
}
