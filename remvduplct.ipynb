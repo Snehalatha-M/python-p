{
 "cells": [
  {
   "cell_type": "code",
   "execution_count": 7,
   "id": "9dc0c1c8-d90e-4b6d-9b3b-a69e50a8adf6",
   "metadata": {},
   "outputs": [
    {
     "name": "stdout",
     "output_type": "stream",
     "text": [
      "new_list: [100, 150, 121, 186, 86, 90, 12]\n"
     ]
    }
   ],
   "source": [
    "list = [100,150,150,100,121,121,186,86,86,90,12,12]\n",
    "new_list = []\n",
    "for value in list:\n",
    "    if value not in new_list:\n",
    "        new_list.append(value)\n",
    "print(\"new_list:\",new_list )"
   ]
  },
  {
   "cell_type": "code",
   "execution_count": null,
   "id": "a7221652-1b07-4543-90e9-20047e49d51c",
   "metadata": {},
   "outputs": [],
   "source": []
  },
  {
   "cell_type": "code",
   "execution_count": null,
   "id": "2f99d25c-0a47-46c6-85ed-5d1016d3564c",
   "metadata": {},
   "outputs": [],
   "source": []
  }
 ],
 "metadata": {
  "kernelspec": {
   "display_name": "Python 3 (ipykernel)",
   "language": "python",
   "name": "python3"
  },
  "language_info": {
   "codemirror_mode": {
    "name": "ipython",
    "version": 3
   },
   "file_extension": ".py",
   "mimetype": "text/x-python",
   "name": "python",
   "nbconvert_exporter": "python",
   "pygments_lexer": "ipython3",
   "version": "3.13.3"
  }
 },
 "nbformat": 4,
 "nbformat_minor": 5
}
