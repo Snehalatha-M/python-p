{
 "cells": [
  {
   "cell_type": "code",
   "execution_count": 5,
   "id": "24268d5a-907e-45c3-a7c6-f1d924ea100a",
   "metadata": {},
   "outputs": [],
   "source": [
    "# Write a Python program to create a dictionary of 3 favorite Movies \n",
    "# Create an empty dictionary called Movies and then add all the movies one by one.\n",
    "# Do not create the Entire dictionary on a single go.\n",
    "# Add a new Movie to the dictionary.\n",
    "# Create a seperate List for Actors, Producers, Directors, Songs\n",
    "# Update the author of an existing Movie.\n",
    "# Remove a Movie by its title.\n",
    "# Print the final dictionary"
   ]
  },
  {
   "cell_type": "code",
   "execution_count": 2,
   "id": "a376e1c1-ef31-4002-8615-127718a1277d",
   "metadata": {},
   "outputs": [
    {
     "name": "stdout",
     "output_type": "stream",
     "text": [
      "{'Chhava': 'Trivikram', 'Frozen2': 'Jennifer Lee', 'Rapunzel': 'BrothersGrimm', 'Actors': ['VickyKaushal', 'Daniel Jacob Radcliffe', 'Idina Menzel', 'Mandy Moore'], 'Producers': ['Dinesh Vijan', 'David Heyman', 'Peter DelVecho', 'Roy Conli'], 'Directors': ['Laxman Utekar', 'Chris Columbus', 'Chris Buck', 'Nathan Greno'], 'Songs': ['The Roar', 'Reunion Of Friends', 'All Is Found', ' Mother Knows Best']}\n"
     ]
    },
    {
     "ename": "NameError",
     "evalue": "name 'Actors' is not defined",
     "output_type": "error",
     "traceback": [
      "\u001b[31m---------------------------------------------------------------------------\u001b[39m",
      "\u001b[31mNameError\u001b[39m                                 Traceback (most recent call last)",
      "\u001b[36mCell\u001b[39m\u001b[36m \u001b[39m\u001b[32mIn[2]\u001b[39m\u001b[32m, line 21\u001b[39m\n\u001b[32m     18\u001b[39m movies.pop(\u001b[33m\"\u001b[39m\u001b[33mHarry Potter\u001b[39m\u001b[33m\"\u001b[39m)\n\u001b[32m     20\u001b[39m \u001b[38;5;28mprint\u001b[39m(movies)\n\u001b[32m---> \u001b[39m\u001b[32m21\u001b[39m \u001b[38;5;28mprint\u001b[39m(\u001b[33m\"\u001b[39m\u001b[33mActors\u001b[39m\u001b[33m\"\u001b[39m, \u001b[43mActors\u001b[49m)\n\u001b[32m     22\u001b[39m \u001b[38;5;28mprint\u001b[39m(\u001b[33m\"\u001b[39m\u001b[33mProducers\u001b[39m\u001b[33m\"\u001b[39m, Producers)\n\u001b[32m     23\u001b[39m \u001b[38;5;28mprint\u001b[39m(\u001b[33m\"\u001b[39m\u001b[33mDirectors\u001b[39m\u001b[33m\"\u001b[39m, Directors)\n",
      "\u001b[31mNameError\u001b[39m: name 'Actors' is not defined"
     ]
    }
   ],
   "source": [
    "movies={}\n",
    "movies[\"Chhava\"]=\"ShivajiSawant\"\n",
    "movies[\"Harry Potter\"]=\"J.K.Rowling\"\n",
    "movies[\"Frozen2\"]=\"Jennifer Lee\"\n",
    "\n",
    "movies.update({\"Rapunzel\":\"BrothersGrimm\"})\n",
    "\n",
    "\n",
    "movies[\"Actors\"]=[\"VickyKaushal\",\"Daniel Jacob Radcliffe\",\"Idina Menzel\",\"Mandy Moore\"]\n",
    "\n",
    "movies[\"Producers\"]=[\"Dinesh Vijan\",\"David Heyman\",\"Peter DelVecho\",\"Roy Conli\"]\n",
    "\n",
    "movies[\"Directors\"]=[\"Laxman Utekar\",\"Chris Columbus\",\"Chris Buck\",\"Nathan Greno\"]\n",
    "\n",
    "movies[\"Songs\"]=[\"The Roar\", \"Reunion Of Friends\", \"All Is Found\", \" Mother Knows Best\"]\n",
    "\n",
    "movies.update({\"Chhava\":\"Trivikram\"})\n",
    "movies.pop(\"Harry Potter\")\n",
    "\n",
    "print(movies)\n",
    "print(\"Actors\", Actors)\n",
    "print(\"Producers\", Producers)\n",
    "print(\"Directors\", Directors)\n",
    "print(\"Songs\", Songs)"
   ]
  },
  {
   "cell_type": "code",
   "execution_count": 3,
   "id": "0ea6f2e8-a8ce-4aa8-8a04-862a341c8ba3",
   "metadata": {},
   "outputs": [
    {
     "ename": "NameError",
     "evalue": "name 'Actors' is not defined",
     "output_type": "error",
     "traceback": [
      "\u001b[31m---------------------------------------------------------------------------\u001b[39m",
      "\u001b[31mNameError\u001b[39m                                 Traceback (most recent call last)",
      "\u001b[36mCell\u001b[39m\u001b[36m \u001b[39m\u001b[32mIn[3]\u001b[39m\u001b[32m, line 20\u001b[39m\n\u001b[32m     17\u001b[39m movies.update({\u001b[33m\"\u001b[39m\u001b[33mChhava\u001b[39m\u001b[33m\"\u001b[39m:\u001b[33m\"\u001b[39m\u001b[33mTrivikram\u001b[39m\u001b[33m\"\u001b[39m})\n\u001b[32m     18\u001b[39m movies.pop(\u001b[33m\"\u001b[39m\u001b[33mHarry Potter\u001b[39m\u001b[33m\"\u001b[39m)\n\u001b[32m---> \u001b[39m\u001b[32m20\u001b[39m \u001b[38;5;28mprint\u001b[39m(\u001b[33m\"\u001b[39m\u001b[33mActors:\u001b[39m\u001b[33m\"\u001b[39m, \u001b[43mActors\u001b[49m)\n\u001b[32m     21\u001b[39m \u001b[38;5;28mprint\u001b[39m(\u001b[33m\"\u001b[39m\u001b[33mProducers:\u001b[39m\u001b[33m\"\u001b[39m, Producers)\n\u001b[32m     22\u001b[39m \u001b[38;5;28mprint\u001b[39m(\u001b[33m\"\u001b[39m\u001b[33mDirectors:\u001b[39m\u001b[33m\"\u001b[39m, Directors)\n",
      "\u001b[31mNameError\u001b[39m: name 'Actors' is not defined"
     ]
    }
   ],
   "source": [
    "movies={}\n",
    "movies[\"Chhava\"]=\"ShivajiSawant\"\n",
    "movies[\"Harry Potter\"]=\"J.K.Rowling\"\n",
    "movies[\"Frozen2\"]=\"Jennifer Lee\"\n",
    "\n",
    "movies.update({\"Rapunzel\":\"BrothersGrimm\"})\n",
    "\n",
    "\n",
    "movies[\"Actors\"]=[\"VickyKaushal\",\"Daniel Jacob Radcliffe\",\"Idina Menzel\",\"Mandy Moore\"]\n",
    "\n",
    "movies[\"Producers\"]=[\"Dinesh Vijan\",\"David Heyman\",\"Peter DelVecho\",\"Roy Conli\"]\n",
    "\n",
    "movies[\"Directors\"]=[\"Laxman Utekar\",\"Chris Columbus\",\"Chris Buck\",\"Nathan Greno\"]\n",
    "\n",
    "movies[\"Songs\"]=[\"The Roar\", \"Reunion Of Friends\", \"All Is Found\", \" Mother Knows Best\"]\n",
    "\n",
    "movies.update({\"Chhava\":\"Trivikram\"})\n",
    "movies.pop(\"Harry Potter\")\n",
    "\n",
    "print(\"Actors:\", Actors)\n",
    "print(\"Producers:\", Producers)\n",
    "print(\"Directors:\", Directors)\n",
    "print(\"Songs:\", Songs)"
   ]
  },
  {
   "cell_type": "code",
   "execution_count": 4,
   "id": "81433eff-5121-41c4-b396-950eb3b0d936",
   "metadata": {},
   "outputs": [
    {
     "name": "stdout",
     "output_type": "stream",
     "text": [
      "Movies: {'Chhava': 'Trivikram', 'Frozen2': 'Jennifer Lee', 'Rapunzel': 'BrothersGrimm'}\n",
      "Actors: ['VickyKaushal', 'Daniel Jacob Radcliffe', 'Idina Menzel', 'Mandy Moore']\n",
      "Producers: ['Dinesh Vijan', 'David Heyman', 'Peter DelVecho', 'Roy Conli']\n",
      "Directors: ['Laxman Utekar', 'Chris Columbus', 'Chris Buck', 'Nathan Greno']\n",
      "Songs: ['The Roar', 'Reunion Of Friends', 'All Is Found', ' Mother Knows Best']\n"
     ]
    }
   ],
   "source": [
    "movies={}\n",
    "movies[\"Chhava\"]=\"ShivajiSawant\"\n",
    "movies[\"Harry Potter\"]=\"J.K.Rowling\"\n",
    "movies[\"Frozen2\"]=\"Jennifer Lee\"\n",
    "\n",
    "movies.update({\"Rapunzel\":\"BrothersGrimm\"})\n",
    "\n",
    "\n",
    "Actors=[\"VickyKaushal\",\"Daniel Jacob Radcliffe\",\"Idina Menzel\",\"Mandy Moore\"]\n",
    "\n",
    "Producers=[\"Dinesh Vijan\",\"David Heyman\",\"Peter DelVecho\",\"Roy Conli\"]\n",
    "\n",
    "Directors=[\"Laxman Utekar\",\"Chris Columbus\",\"Chris Buck\",\"Nathan Greno\"]\n",
    "\n",
    "Songs=[\"The Roar\", \"Reunion Of Friends\", \"All Is Found\", \" Mother Knows Best\"]\n",
    "\n",
    "movies.update({\"Chhava\":\"Trivikram\"})\n",
    "movies.pop(\"Harry Potter\")\n",
    "\n",
    "print(\"Movies:\", movies)\n",
    "\n",
    "print(\"Actors:\", Actors)\n",
    "print(\"Producers:\", Producers)\n",
    "print(\"Directors:\", Directors)\n",
    "print(\"Songs:\", Songs)\n",
    "\n",
    " "
   ]
  },
  {
   "cell_type": "code",
   "execution_count": null,
   "id": "c70feb15-023d-403a-bf4b-2c0945fecae5",
   "metadata": {},
   "outputs": [],
   "source": []
  }
 ],
 "metadata": {
  "kernelspec": {
   "display_name": "Python 3 (ipykernel)",
   "language": "python",
   "name": "python3"
  },
  "language_info": {
   "codemirror_mode": {
    "name": "ipython",
    "version": 3
   },
   "file_extension": ".py",
   "mimetype": "text/x-python",
   "name": "python",
   "nbconvert_exporter": "python",
   "pygments_lexer": "ipython3",
   "version": "3.13.3"
  }
 },
 "nbformat": 4,
 "nbformat_minor": 5
}
